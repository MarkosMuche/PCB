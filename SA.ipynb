{
 "cells": [
  {
   "cell_type": "code",
   "execution_count": null,
   "id": "c3d76dd3",
   "metadata": {},
   "outputs": [],
   "source": [
    "pip install simanneal"
   ]
  },
  {
   "cell_type": "code",
   "execution_count": null,
   "id": "be9cbb04",
   "metadata": {},
   "outputs": [],
   "source": []
  },
  {
   "cell_type": "code",
   "execution_count": 3,
   "id": "bc1ddc3c",
   "metadata": {},
   "outputs": [
    {
     "name": "stderr",
     "output_type": "stream",
     "text": [
      " Temperature        Energy    Accept   Improve     Elapsed   Remaining\n",
      "     1.10000        247.00    21.85%     0.00%     0:00:42    -1:59:57 Temperature        Energy    Accept   Improve     Elapsed   Remaining\n",
      "     1.10000        260.00    10.67%     0.00%     0:00:08     0:00:00"
     ]
    },
    {
     "name": "stdout",
     "output_type": "stream",
     "text": [
      "247\n",
      "[5, 8, 4, 9, 7, 2, 1, 10, 3, 6]\n"
     ]
    }
   ],
   "source": [
    "import main\n",
    "from itertools import permutations\n",
    "from __future__ import print_function\n",
    "import math\n",
    "import random\n",
    "from collections import defaultdict\n",
    "from simanneal import Annealer\n",
    "\n",
    "class TravellingSalesmanProblem(Annealer):\n",
    "    # pass extra data (the distance matrix) into the constructor\n",
    "    def __init__(self,state,pseq1,w,h):\n",
    "        self.pseq1=pseq1\n",
    "        self.h=h\n",
    "        self.w=w\n",
    "        self.state=state\n",
    "        super(TravellingSalesmanProblem, self).__init__(state)  # important!\n",
    "\n",
    "    def move(self):\n",
    "        initial_energy = self.energy()\n",
    "        a = random.randint(0, len(self.state) - 1)\n",
    "        b = random.randint(0, len(self.state) - 1)\n",
    "        if a!=b:\n",
    "            self.state[a], self.state[b] = self.state[b], self.state[a]\n",
    "        return self.energy() - initial_energy\n",
    "    def energy(self):\n",
    "        \"\"\"Calculates the length of the route.\"\"\"\n",
    "        e,x,y=main.toArea(self.state,self.pseq1,self.w,self.h)\n",
    "        return e\n",
    "if __name__ == '__main__':\n",
    "    nm=10\n",
    "    \n",
    "    p=list([[range(1,nm+1)],[range(1,nm+1)]])\n",
    "    pseq=[[p[0].shuffle(),p[1].shuffle()]]\n",
    "    w=list(range(1,nm+1))\n",
    "    w.shuffle()\n",
    "    \n",
    "    h=list(range(1,nm+1))\n",
    "    h.shuffle()\n",
    "    for i in range(nm):\n",
    "        w.append(random.randint(1,8))\n",
    "        h.append(random.randint(1,8))\n",
    "    state=pseq[0]\n",
    "    tsp = TravellingSalesmanProblem(state,pseq[1], w,h)\n",
    "    tsp.set_schedule(tsp.auto(minutes=0.2))\n",
    "    # since our state is just a list, slice is the fastest way to copy\n",
    "    tsp.copy_strategy = \"slice\"\n",
    "    state, e = tsp.anneal()\n",
    "    print(e)\n",
    "    print(state)\n",
    "    print(tsp.pseq1)\n"
   ]
  },
  {
   "cell_type": "code",
   "execution_count": null,
   "id": "a2e16f93",
   "metadata": {},
   "outputs": [],
   "source": [
    "import main\n",
    "pseq=[[4, 6, 5, 2, 1, 3],[3,2,6,1,4,5]]\n",
    "state=pseq[0]\n",
    "w=[5,5,9,7,4,8]\n",
    "h=[3,7,4,8,10,7]\n",
    "a,x,y=main.toArea(state,w,h)\n",
    "print(x,y)"
   ]
  },
  {
   "cell_type": "code",
   "execution_count": null,
   "id": "586adfd6",
   "metadata": {},
   "outputs": [],
   "source": []
  }
 ],
 "metadata": {
  "kernelspec": {
   "display_name": "Python 3",
   "language": "python",
   "name": "python3"
  },
  "language_info": {
   "codemirror_mode": {
    "name": "ipython",
    "version": 3
   },
   "file_extension": ".py",
   "mimetype": "text/x-python",
   "name": "python",
   "nbconvert_exporter": "python",
   "pygments_lexer": "ipython3",
   "version": "3.8.7"
  }
 },
 "nbformat": 4,
 "nbformat_minor": 5
}
